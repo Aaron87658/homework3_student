{
 "cells": [
  {
   "cell_type": "markdown",
   "id": "815a3a32",
   "metadata": {},
   "source": [
    "## Make sure you are checking that your code full runs in your notebook before submitting to Gradescope!\n",
    "1. Restart your kernel with the refresh button in the top panel below this tab.\n",
    "2. Run through all your cells one by one, checking to see there are no errors!\n",
    "3. Read through the Submission and Autograder announcement on Canvas for more details. "
   ]
  },
  {
   "cell_type": "code",
   "execution_count": null,
   "id": "b2d16e2f",
   "metadata": {
    "tags": []
   },
   "outputs": [],
   "source": [
    "%%capture\n",
    "import sys\n",
    "!{sys.executable} -m pip install otter-grader\n",
    "# Initialize Otter\n",
    "import otter\n",
    "grader = otter.Notebook(\"HW3.ipynb\")"
   ]
  },
  {
   "cell_type": "markdown",
   "id": "fd903061",
   "metadata": {},
   "source": [
    "# Homework #3\n",
    "**Due Friday Nov. 8th @ 11:59 pm**\n",
    "\n",
    "**Regrade Request Due Date: Friday Nov. 22nd @ 11:59 pm**\n",
    "\n",
    "**Objective:** This assignment will give you experience with NumPy genfromtext, Pandas, advanced plotting, and Cartopy.\n",
    "\n",
    "## **Instructions:**\n",
    "Read through the following instructions carefully!\n",
    "### Accessing Class Code and Instructions\n",
    "\n",
    "1. Create a fork of the class repository in GitHub.\n",
    "\n",
    "2. Clone this repository into the home directory of your own JupyterHub by running this command:\n",
    "```git clone your_SSH_URL```\n",
    "\n",
    "**Our JupyterHub server has trouble remembering the file permissions for our SSH keys. If you get a file permission error with your private ssh key, run the following line of code in your Terminal:**\n",
    "\n",
    "```chmod 400 ~/.ssh/id_ed25519``` \n",
    "<br>\n",
    "\n",
    "This will change your file permission to the proper permissions that SSH requires.\n",
    "\n",
    "3. There should now be a \"homework_3\" directory in the home directory of your JupyterHub. In terminal, change directories into \"homework_3\". Next, click on the the \"homework_3\" icon on the filepath hierarchy in the left panel of JupyterHub. If you don't see it, make sure you're in the home folder by clicking the folder icon under the search bar. \n",
    "\n",
    "4. Double click the \"HW3.ipynb\" to open it in a new tab and begin working on the assignment. Read the instructions carefully, and make sure to write your answers in the specified cells. \n",
    "\n",
    "5. Make sure to use the answer variable names provided in the starter code. There are autograder tests embedded in the notebook that will check your work when you run the Autograder, and you can which tests you passed/failed after you submit.\n",
    "\n",
    "6. Edit the **README** file and write your name and UW NetID. Add a paragraph on why the following plots elements (below) are necessary when designing figures (4-5 sentences). (5 points) \n",
    "\n",
    "6. As you continue to answer the homework questions and make edits to your code, make sure to regularly update your GitHub repository as well via git add, commit, and push. A good rule of thumb would be to run these git steps anytime you make an addition or change that you don't want to accidentally lose. Generally, you can push once a day to maintain good version control practices. <br>\n",
    "\n",
    "Also, make sure that your git commands are running without errors before you refresh your GitHub and check your changes. If you are not seeing the updated changes you created in your local JupyterHub directory, check where your status is by this command: <br>\n",
    "``` git status```\n",
    "\n",
    "Then, you can see if you made an error with your git add, commit, or push commands.\n",
    "\n",
    "### Required Plot Elements for Figures\n",
    "This assignments requires you to create and design figures using `matplotlib`. To practice good plotting practices, each figure will require the following to receive full points:\n",
    "1) Concise, descriptive title for each figure/subplot\n",
    "2) Axis labels with units (when possible)\n",
    "3) Appropriate axis limits (minimum and maximum)\n",
    "4) Appropriate tick resolution\n",
    "5) Legend when using different datasets \n",
    "6) Appropriate font size (a good range is 12-15)\n",
    "\n",
    "### Storing your answers\n",
    "In the code cells where you will write your answers, there will be comments denoting:\n",
    "\n",
    "\"**# your code**\"\n",
    "\n",
    "and \n",
    "\n",
    "\"**# answer variables**\"\n",
    "\n",
    "You may store any intermediary variables in the **your code** section. If you do not have any intermediary variables, you can leave the \"your code\" section blank and store your answer directly in the answer variables.\n",
    "    \n",
    "### Submitting to GradeScope\n",
    "\n",
    "1. Add, commit, and push your changes to GitHub via the command line in JupyterHub.\n",
    "\n",
    "2. Go to the class Gradescope dashboard and submit your personal GitHub repository link to the Homework 3 assignment. If prompted, log in to GitHub.\n",
    "\n",
    "3. Run the autograder to check if your code runs and if you passed the initial unit tests. You should be able to run the autograder as many times as you want before submitting. Again, double check that your final answers are stored in the provided variable names given in the starter code!\n",
    "\n",
    "4. Once the autograder has finished running, check that you have submitted the assignment. If you make any more changes to your code after submitting to Gradescope, make sure to push your changes to GitHub and resubmit the assignment on Gradescope. You can submit as many times as you want as there is no maximum submission attempts, but be sure to have your final submission in before the deadline.\n",
    "\n",
    "\n",
    "### Honor Code\n",
    "\n",
    "- Complete the assignment by writing and executing text and code cells as specified. For this assignment, do not use any features of Python that have not yet been discussed in the lessons or class sessions.\n",
    "\n",
    "- Please keep in mind our late work and dropped homework grading policy. Review the syllabus for details.\n",
    "\n",
    "- You can acknowledge and describe any assistance you've received on this assignment in the specified cell of this HW3 notebook, whether that was from an instructor, classmate (either directly or on Ed Discussion), and/or online resources other than official Python documentation websites like docs.python.org or numpy.org. Alternatively, if you prefer, you may acknowledge assistance at the relevant point(s) in your code using a Python comment (#). \n",
    "\n",
    "- Don't forget that you can receive 5 points of extra credit from answering at least one question on [Ed Discussion](https://edstem.org/us/courses/67282)!"
   ]
  },
  {
   "cell_type": "markdown",
   "id": "2efa719f",
   "metadata": {},
   "source": [
    "## Grade Breakdown\n",
    "- Question 1: 25 points\n",
    "- Question 2: 30 points\n",
    "- Question 3: 30 points\n",
    "- Best coding practices: 10 points\n",
    "- README: 5 points\n",
    "\n",
    "**Total: 100 points**\n",
    "\n",
    "- Extra Credit: 5 points for answering a question on Ed Discussion"
   ]
  },
  {
   "cell_type": "markdown",
   "id": "de46f16d",
   "metadata": {
    "deletable": false,
    "editable": false
   },
   "source": [
    "# Question 1: Pandas and CSV Files (25 points)\n",
    "\n",
    "<div>\n",
    "<center>\n",
    "    <img src = \"https://i0.wp.com/datalab.marine.rutgers.edu/wp-content/uploads/2020/08/Oregon-Slope-Base-Nutrients_v3-e1597077722888.jpg?w=885&ssl=1\"\n",
    "         width = \"500\"\\>\n",
    "<center>\n",
    "</div>\n",
    "\n",
    "For this exercise we will be examining vertical profiler data from Axial Seamount curated by [Ocean Data Labs](https://datalab.marine.rutgers.edu/data-nuggets/nutrients/).\n",
    "\n",
    "The figure above shows temperature, salinity, dissolved oxygen, dissolved organic matter, and nitrate depth profiles over a 4 month period in 2017. It was created using the profiler data you will be looking at today. The data will be directly accessed from the Ocean Data Labs website, using the `profiler_url` string in the cell below.\n",
    "\n",
    "\n",
    "## Instructions \n",
    "Write your code and print your answers for Parts 1-4 in the specified cells below. Don't forget to import any necessary packages, and you will only need to import them once throughout your notebook.   \n",
    "<br>Make sure to utilize the *print()* statements or write your own print statements for your answers at the bottom of each cell and _**use the provided variables to store your final answer!**_ You may name intermediary variables whatever you like, as long as the final answer is stored and printed in the ones we provide in your starter code."
   ]
  },
  {
   "cell_type": "markdown",
   "id": "48740923-b945-4896-b47b-fc370fb16f05",
   "metadata": {
    "deletable": false,
    "editable": false
   },
   "source": [
    "### Part 1\n",
    "Using Pandas, read the csv file into a DataFrame by its URL (`profiler_url` in cell below) and store it in the `pro_df` answer variable. If you forgot how to do read in a file, read the Pandas [documentation](https://pandas.pydata.org/docs/reference/api/pandas.read_csv.html). \n",
    "\n",
    "Print the names of the columns in this DataFrame and store many rows it has in the `df_rows` answer variable. (5 points)"
   ]
  },
  {
   "cell_type": "code",
   "execution_count": null,
   "id": "2fd2273e",
   "metadata": {
    "deletable": false,
    "editable": false,
    "tags": []
   },
   "outputs": [],
   "source": [
    "# URL to read in to pandas, DO NOT change this!\n",
    "profiler_url = 'https://datalab.marine.rutgers.edu/wp-content/uploads/2020/08/E01_RS03AXPS_Axial_Base_profiler.csv'"
   ]
  },
  {
   "cell_type": "code",
   "execution_count": null,
   "id": "27d24bf7",
   "metadata": {
    "tags": []
   },
   "outputs": [],
   "source": [
    "# don't forget to print both your answer variables and the outputs that instructions say to print!\n",
    "## PART 1\n",
    "print(\"Part 1)\")\n",
    "# your code\n",
    "\n",
    "# answer variables\n",
    "pro_df = \"\"\n",
    "df_rows = \"\"\n",
    "\n",
    "# fill in the pritng statements\n",
    "print(\"Profiler Dataframe Columns:\", )\n",
    "print(\"Dataframe has\" ,\"rows\")"
   ]
  },
  {
   "cell_type": "markdown",
   "id": "9530dce7-0f4a-49ee-a2b7-971e1d243d64",
   "metadata": {
    "deletable": false,
    "editable": false
   },
   "source": [
    "### Part 2\n",
    "Use the `describe()` function to show and display summary parameters (mean, max, std, count, etc.) of each column of the DataFrame. Without hardcoding, store and print the mean value of the \"Seawater Temperature (deg_C)\" column in the `mean_temp` answer variable. \n",
    "\n",
    "If you are having trouble accessing your column, double check that you are spelling the column name exactly as it is stored in the dataframe. You can also use your _tab_ button to autofill. (5 points)"
   ]
  },
  {
   "cell_type": "code",
   "execution_count": null,
   "id": "04ba8d86-31fb-4ef7-a24f-82245d3279e3",
   "metadata": {
    "tags": []
   },
   "outputs": [],
   "source": [
    "## PART 2\n",
    "print(\"Part 2)\")\n",
    "# your code\n",
    "\n",
    "# answer variables\n",
    "mean_temp = \"\"\n",
    "\n",
    "# print statements\n",
    "print (\"The mean seawater temperature is\", mean_temp)"
   ]
  },
  {
   "cell_type": "markdown",
   "id": "474828a5-21ba-4bd9-9ab3-a9a8d224bf37",
   "metadata": {
    "deletable": false,
    "editable": false
   },
   "source": [
    "### Part 3\n",
    "Use the `loc()` function to find all rows of your DataFrame where the \"time\" column is equal to the string \"2017-08-08 17:00:00\". Assign those rows to a new DataFrame and store them in the `aug_df` answer variable. \n",
    "\n",
    "Repeat for where time is \"2017-12-04 17:00:00\". Store the resulting subsetted dataframe in the `dec_df` answer variable. Use the `display()` function to print your new, subsetted dataframes. (5 points)"
   ]
  },
  {
   "cell_type": "code",
   "execution_count": null,
   "id": "b7f1b589-f9fb-41cb-86e7-bd23e6ab98cd",
   "metadata": {
    "tags": []
   },
   "outputs": [],
   "source": [
    "## PART 3\n",
    "print(\"Part 3)\")\n",
    "# your code\n",
    "\n",
    "# answer variables\n",
    "aug_df = \"\"\n",
    "dec_df = \"\"\n",
    "\n",
    "# display your new dataframes\n"
   ]
  },
  {
   "cell_type": "markdown",
   "id": "e5998bb9-977b-4070-8bad-6b9aedff7396",
   "metadata": {
    "deletable": false,
    "editable": false
   },
   "source": [
    "<!-- BEGIN QUESTION -->\n",
    "\n",
    "### Part 4\n",
    "4. Your two new DataFrames contain single water column profiles measured at your selected times. Let's make a figure to compare the water column profiles of temperature, dissolved oxygen, and dissolved organic matter (CDOM). Follow these steps, **and make sure to include all required plot elements listed in the Assignment Instructions (above)**: (10 points)\n",
    "\n",
    ">a) `Use matplotlib` to make a figure with three subplots. The subplots should be **columns, not rows**. Check the [documentation](https://matplotlib.org/stable/api/_as_gen/matplotlib.pyplot.subplots.html) if you need help.\n",
    "\t\n",
    ">b) On the first subplot, plot Seawater Temperature (x-axis) vs. depth* (y-axis) for your two subsetted dataframes. Plot two lines in different colors: one profile for your `aug_df` DataFrame, and the other for your `dec_df` DataFrame. Reverse the y-axis so depth values increase downward.\n",
    "\n",
    "*_Note: You can assume pressure is a proxy for depth (1dbar = ~1 meter)._\n",
    "\n",
    ">c) On the second subplot, plot dissolved oxygen vs. depth for the two subsetted dataframes following the same conventions as part b).\n",
    "\n",
    ">d) On the third subplot, plot CDOM vs. depth for the two subsetted dataframes following the same conventions as part b) and part c).\n",
    "\n",
    ">e) Add a grid to each of your subplots.\n",
    "\n",
    ">f) Add a legend to your figure. This can go in any one of your subplots.\n",
    "\n",
    ">g) In a markdown cell below your plot, describe how dissolved oxygen and CDOM vs. depth profiles vary between the two dates you have plotted (2-3 sentences). \n",
    "\n",
    "An example of what your final figure should look like is shown below. You may choose different colors for your dataframes. \n",
    "\n",
    "![example](https://i.ibb.co/C1ngKFg/q1-part4.png)"
   ]
  },
  {
   "cell_type": "markdown",
   "id": "7ea8d9ec",
   "metadata": {},
   "source": [
    "_Type your answer here, replacing this text._"
   ]
  },
  {
   "cell_type": "code",
   "execution_count": null,
   "id": "6efa0fa1-3473-40a4-ad43-791b7cee8053",
   "metadata": {
    "tags": []
   },
   "outputs": [],
   "source": [
    "## PART 4\n",
    "print(\"Part 4)\")\n",
    "# your code to create your plot\n"
   ]
  },
  {
   "cell_type": "markdown",
   "id": "7fb1e56d",
   "metadata": {
    "deletable": false,
    "editable": false,
    "tags": []
   },
   "source": [
    "<!-- END QUESTION -->\n",
    "\n",
    "# Question 2: genfromtxt and cartopy (30 points)\n",
    "PANGAEA is an amazing source of oceanographic data. The database has compiled data from over hundreds of cruises, accumulating to over 419,000 datasets with over 25 billion individual measurements and observations. _Citation_: https://doi.org/10.1038/s41597-023-02269-x.\n",
    "\n",
    "For this exercise we will be reading and mapping measured surface salinity and temperature data from a 2016 transatlantic cruise from South America to Europe (COLIBRI cruise 35MJ20150607). Source of ship data: https://doi.pangaea.de/10.1594/PANGAEA.865996.\n",
    "\n",
    "<div>\n",
    "    <center>\n",
    "        <img src = \"https://i.ibb.co/7bXh4XW/Screen-Shot-2024-10-30-at-1-33-27-PM.png\"\n",
    "             width = \"400\"/>\n",
    "    <center>\n",
    "<div/>\n",
    "\n",
    "Our data is stored in a text file in the data folder of this repository: \"data/35MJ20150607_CO2_underway_SOCATv4.tab\"\n",
    "\n",
    "        \n",
    "<div style=\"text-align: left\"> \n",
    "<h2>Instructions </h2>\n",
    "Write your code and print your answers for Parts 1-4 in the specified cells below. Don't forget to import any necessary packages, and you will only need to import them once throughout your notebook.\n",
    "    \n",
    "<br>Make sure to *print()* for your answers at the bottom of each cell and _**use the provided variables to store your final answer!**_ You may name intermediary variables whatever you like, as long as the final answer is stored and printed in the ones we provide in your starter code.\n",
    "</div>"
   ]
  },
  {
   "cell_type": "markdown",
   "id": "5f26d04e-f52a-4526-a191-5315bf22fdef",
   "metadata": {
    "deletable": false,
    "editable": false
   },
   "source": [
    "### Part 1\n",
    "Store your filepath as a string in the `cruise_filepath` variable.\n",
    "\n",
    "Use `readline()` in a loop to print the first 50 rows of `cruise_filepath`. Store how many lines of header are in this text file in the `header_lines` answer varaiable and print the result.\n",
    "\n",
    "Now, look for the columns. Store the column indices for latitude, longitude, measured salinity (Sal), and measured temperature (Temp [°C]) as a tuple in the `data_cols` variable. Print your answer. (5 points)"
   ]
  },
  {
   "cell_type": "code",
   "execution_count": null,
   "id": "bc1930b1",
   "metadata": {
    "tags": []
   },
   "outputs": [],
   "source": [
    "print(\"Part 1)\")\n",
    "# your code\n",
    "\n",
    "# answer variables\n",
    "cruise_filepath = \"\"\n",
    "header_lines = \"\"\n",
    "data_cols = \"\"\n",
    "\n",
    "# print statements\n"
   ]
  },
  {
   "cell_type": "markdown",
   "id": "e6e8fa20-e63f-441a-a8ac-b468f3061ae5",
   "metadata": {
    "deletable": false,
    "editable": false
   },
   "source": [
    "### Part 2\n",
    "2) Use `np.genfromtxt()` to read the latitude, longitude, measured salinity (Sal), and measured temperature (Temp [°C]) columns into a 2-D numpy array of floats. \n",
    "\n",
    "Pass in your tuple from Part 1 as the input for the **usecols** argument in the `genfromtxt()` function. Store the resulting 2-D array in the `lat_lon_sal_temp` answer variable and print it. (5 points)\n",
    "\n",
    "_Optional_: You may also turn your 2-D array into individual 1-D arrays for plotting purposes for parts 3 and 4. "
   ]
  },
  {
   "cell_type": "code",
   "execution_count": null,
   "id": "06c5d228-a0be-43e6-aa98-4ab682378a7d",
   "metadata": {
    "tags": []
   },
   "outputs": [],
   "source": [
    "print(\"Part 2)\")\n",
    "# your code\n",
    "\n",
    "# answer variables\n",
    "lat_lon_sal_temp = \"\"\n",
    "\n",
    "# print statements"
   ]
  },
  {
   "cell_type": "markdown",
   "id": "2adec41d-ff2e-46a2-99b8-61a1d53c1bdd",
   "metadata": {
    "deletable": false,
    "editable": false
   },
   "source": [
    "<!-- BEGIN QUESTION -->\n",
    "\n",
    "### Part 3\n",
    "Use `matplotlib` and `cartopy` to plot longitude, latitude, and salinity on a map. **Include all required and relevant plot elements as described in the Assignment Instructions.** Follow these steps: (10 points)\n",
    "\n",
    ">a) Make a figure using `matplotlib.pyplot figure()` to set the figure size to (15,8) ([documentation](\"https://matplotlib.org/stable/api/_as_gen/matplotlib.pyplot.figure.html\")). Set the map projection to **PlateCaree** (check out this [example](\"https://scitools.org.uk/cartopy/docs/v0.15/matplotlib/intro.html\") from the cartopy documentaion).\n",
    "\n",
    ">b) Add coastlines to the map, with resolution set to **110m** and color to **black**.\n",
    "\n",
    ">c) Add OCEAN, LAND, and BORDERS features to the map. Choose appropriate colors for these features.\n",
    "\n",
    ">d) Add latitude and longitude gridlines and set to **white**.\n",
    "\n",
    ">e) Make a scatter plot of latitude, longitude, and salinity on your map. Plot longitude in your x-axis, latitude in your y-axis, and salinity as color. Add a colorbar for salinity and label it with units.  \n",
    "\n",
    "_Optional_: format your latitude and longitude using the `mpl.gridliner` class from `cartopy` ([documentation](https://scitools.org.uk/cartopy/docs/v0.13/matplotlib/gridliner.html) with example)\n",
    "\n",
    ">f) In a comment or markdown cell below your map, answer the following question: \n",
    ">> Do you see any big jumps or anomalies in the salinity data on your map? Where? Why do you think there is/is not a big jump in the data? (2-3 sentences)"
   ]
  },
  {
   "cell_type": "code",
   "execution_count": null,
   "id": "09a86ea8-3c5f-40d1-834a-089a520868fa",
   "metadata": {
    "tags": []
   },
   "outputs": [],
   "source": [
    "print(\"Part 3)\")\n",
    "# your code to create your map\n"
   ]
  },
  {
   "cell_type": "markdown",
   "id": "dacb9581-a3b6-49ae-aa2b-a2b3c7e713c7",
   "metadata": {
    "deletable": false,
    "editable": false
   },
   "source": [
    "<!-- END QUESTION -->\n",
    "\n",
    "<!-- BEGIN QUESTION -->\n",
    "\n",
    "### Part 4\n",
    "Make a second map identical to the first, but plot temperature as color instead of salinity. Answer the following question in a comment or markdown cell below your map (10 points):\n",
    "\n",
    "> What is the range of temperature throughout this cruise (maximum - minimum)? Would you expect this big or small of a temperature shift in this ocean basin? Why or why not? (2-3 sentences). "
   ]
  },
  {
   "cell_type": "code",
   "execution_count": null,
   "id": "3334e5f4-272e-4975-ad77-4aea731e84a3",
   "metadata": {
    "tags": []
   },
   "outputs": [],
   "source": [
    "print(\"Part 4)\")\n",
    "# your code to create your map\n"
   ]
  },
  {
   "cell_type": "markdown",
   "id": "bba2c79b",
   "metadata": {
    "deletable": false,
    "editable": false
   },
   "source": [
    "<!-- END QUESTION -->\n",
    "\n",
    "# Question 3: Xarray and 2-D plotting (30 points)\n",
    "\n",
    "![offshore plot](https://i.ibb.co/WcJnvnH/question3.png)\n",
    "\n",
    "This question uses echo sounder data curated by [Ocean Data Labs](https://datalab.marine.rutgers.edu/data-nuggets/zooplankton-eclipse/).\n",
    "\n",
    "\n",
    "The figure above uses sonar to show diel veritical migration of zooplankton. Zooplankton spend their daylight hours deeper in the water column to avoid visual predators. As the sun sets and the water column darkens, they make their way to the food-rich surface. Sonar using backscattering data to predict where the zooplankton are at a given time. Higher backscattering values correlate to increased biomass. Note in the figure above how the surface shows high backscattering at the surface (dark red), but we can see another layer of lighter blue/green that represents zooplankton moving up and down.\n",
    "\n",
    "  During an eclipse at ~17:00 on August 21st 2017, as the moon blocked the sun’s light, the zooplankton began their nightly vertical migration through the water column. Once the moon moved passed the sun and light in the water column increase, the zooplankton realized their mistake and swam back down. Note that since the eclipse was such a short event, the zooplankton did not make it all the way to the surface.\n",
    "\n",
    "For this exercise, we will use xarray and 2-D plotting to examine a subset of this data. We will look specifically at the sonar backscatter data for two hours surrounding the solar eclipse.\n",
    "\n",
    "## Instructions\n",
    "Write your code and print your answers for Parts 1-4 in the specified cells below. Don't forget to import any necessary packages, and you will only need to import them once throughout your notebook.\n",
    "\n",
    "Make sure to *print()* for your answers at the bottom of each cell and _**use the provided variables to store your final answer!**_ You may name intermediary variables whatever you like, as long as the final answer is stored and printed in the ones we provide in your starter code."
   ]
  },
  {
   "cell_type": "markdown",
   "id": "d5283494-0acd-46e2-ba3e-723903e49a27",
   "metadata": {
    "deletable": false,
    "editable": false
   },
   "source": [
    "### Part 1\n",
    "1) Your netcdf file is stored in the **data** folder. The filepath string is listed in the starter code cell below this cell. Use the xarray `open_dataset()` function to open the .nc file as an xarray dataset and store the dataset in the `echodata` variable. (1 point)\n",
    "\n",
    "2) Display your DataSet in the solution cell below. Answer the following subquestions and store/print the answers in the approriate answer variables: (4 points)\n",
    "\n",
    ">a) Store the _coordinates_ of this DataSet in the `echo_coords` variable below without hardcoding. _HINT:_ Look at the Parameters section of xarray.dataset in the [dataset documentation](https://docs.xarray.dev/en/stable/generated/xarray.Dataset.html) and [here](https://docs.xarray.dev/en/stable/generated/xarray.Dataset.coords.html) on how to access the xarray.Dataset.coords.\n",
    "\n",
    ">b) Store the _data variables_ of this DataSet in the `echo_vars` variable below without hardcoding. _HINT:_ Check the documentation above and [here](https://docs.xarray.dev/en/stable/generated/xarray.Dataset.data_vars.html) on how to access the xarray.dataset.data_vars.\n",
    "\n",
    ">c) Store the _dimensions_ of this dataset in the `echo_dims` variable below without hardcoding. _HINT:_  Check the documentation above and [here](https://docs.xarray.dev/en/stable/generated/xarray.Dataset.dims.html) on how to access the xarray.dataset.dims. \n",
    "\n",
    "3) In a comment at the bottom of the cell, write which coordinates correspond to the layer, rows, and columns of the `echodata` dataset. (1 point)\n",
    "\n",
    "    For example, is frequency a layer, row, or a column in `echodata`? What about `ping_time` and `range_bin`? If you're having trouble getting started, try to visualize and draw out on paper what you think the data structure looks like based on the figures in the pre-lecture and lecture slides."
   ]
  },
  {
   "cell_type": "code",
   "execution_count": null,
   "id": "6f15aa56-9ce2-4efe-86ab-c19bd1e3a137",
   "metadata": {
    "deletable": false,
    "editable": false,
    "tags": []
   },
   "outputs": [],
   "source": [
    "# import engine to run xarray\n",
    "import netCDF4\n",
    "# filepath to .nc file (DO NOT CHANGE THIS CODE!)\n",
    "filepath = \"data/OOI-D20170821-T163049_MVBS.nc\"\n",
    "# solution cell below"
   ]
  },
  {
   "cell_type": "code",
   "execution_count": null,
   "id": "f110e279",
   "metadata": {
    "tags": []
   },
   "outputs": [],
   "source": [
    "# Write your code in this solution cell:\n",
    "print('Part #1)')\n",
    "print('Step 1)')\n",
    "# your code\n",
    "\n",
    "# answer variables\n",
    "echodata = \"\"\n",
    "\n",
    "print('Step 2)')\n",
    "# your code\n",
    "\n",
    "# answer variables\n",
    "echo_coords = \"\"\n",
    "echo_vars = \"\"\n",
    "echo_dims = \"\"\n",
    "\n",
    "# print statements\n",
    "\n",
    "print('Step 3)')\n",
    "## Which coordinates correspond to the layer, rows, and columns?\n",
    "# Write your answer in a comment:\n",
    "#\n",
    "#\n",
    "#"
   ]
  },
  {
   "cell_type": "markdown",
   "id": "a1eb2786-c078-497f-8ccb-2f95e4fa1d83",
   "metadata": {
    "deletable": false,
    "editable": false
   },
   "source": [
    "### Part 2\n",
    "1) The different layers of this DataSet are sonar backscatter measurements (MVBS) taken at different frequencies: 38 kHz, 120 kHz, and 200 kHz. The best frequency for detecting zooplankton is 200 kHz, so let's subset our echodataset by the 200 kHz frequency. (2 points)\n",
    "\n",
    ">a) Select the 200 kHz layer and assign it to the 'echodata_200` answer variable. _HINT:_ how many Hz is 200 kHz?\n",
    "\n",
    ">b) Display the new DataSet.\n",
    "\n",
    "2) Extract the ping_time (times), range_bin (depths), and MVBS **values** from your subsetted 200 kHz DataSet and store them as new arrays in the `times`, `depths`, and `MVBS` variables respectively. \n",
    "Store and print the shapes of each new array in the `times_shape`, `depths_shape`, and `MVBS_shape` variables. (3 points)"
   ]
  },
  {
   "cell_type": "code",
   "execution_count": null,
   "id": "c1803849-7f79-4976-bcb4-f6e980565d1c",
   "metadata": {
    "tags": []
   },
   "outputs": [],
   "source": [
    "print(\"Part #2)\")\n",
    "print('Step 1)')\n",
    "# your code\n",
    "\n",
    "# answer variables\n",
    "echodata_200 = \"\"\n",
    "\n",
    "# display new dataset\n",
    "\n",
    "print(\"Step 2)\")\n",
    "# your code\n",
    "\n",
    "# answer variables\n",
    "times = \"\"\n",
    "times_shape = \"\"\n",
    "depths = \"\"\n",
    "depths_shape = \"\"\n",
    "MVBS = \"\"\n",
    "MVBS_shape = \"\"\n",
    "\n",
    "# print statements"
   ]
  },
  {
   "cell_type": "markdown",
   "id": "9b37cbdf-1216-48af-8df8-fd651bb49a2f",
   "metadata": {
    "deletable": false,
    "editable": false
   },
   "source": [
    "### Part 3\n",
    "1) Plot the data using the `matplotlibs.pyplot figure()` and [pcolormesh()](https://matplotlib.org/stable/api/_as_gen/matplotlib.pyplot.pcolormesh.html) functions. **Include all required plot elements.** Use the shapes of the data that from Part 2 to figure out which variables correspond to x, y, and C (color) values. Add a colorbar to the side and a label. Can you see where the zooplankton are based on the backscattering data? (5 points)\n",
    "\n",
    "2) You may notice your plot looks different than the example plot above. This is because our x-axis and y-axis are flipped compared to the example figure. This means, we need to reshape your MVBS array so that we can plot the data with \"ping_time\" (time) on the x-axis and \"range_bin\" (depth) on the y-axis. Do this by following these steps: (9 points)\n",
    "\n",
    ">a) Flip the MVBS array using `numpy flip()`. (Look up the documentation if you're not sure how to do this!)\n",
    "\n",
    ">b) Transpose the flipped MVBS array using `numpy transpose()` and store it in the `MVBS_flipT` variable.\n",
    "\n",
    ">c) Store the shape of the resulting MVBS array in the `MVBS_flipT_shape` variable and print it.\n",
    "\n",
    ">d) Plot `MVBS_flipT` with \"ping_time\" on the x-axis, and \"range_bins\" on the y-axis. Flip the y-axis so that range values increase downward. Include a colorbar to the side and a label."
   ]
  },
  {
   "cell_type": "code",
   "execution_count": null,
   "id": "448fd5dc-2b6b-42b0-96a3-3ddc08b4b929",
   "metadata": {
    "tags": []
   },
   "outputs": [],
   "source": [
    "print(\"Part 3)\")\n",
    "print(\"Step 1)\")\n",
    "# your code for plotting\n",
    "\n",
    "print(\"Step 2\")\n",
    "# your code\n",
    "\n",
    "# answer variables\n",
    "MVBS_flipT = \"\"\n",
    "MVBS_flipT_shape = \"\"\n",
    "\n",
    "# your code for plotting\n"
   ]
  },
  {
   "cell_type": "markdown",
   "id": "d5d173c6-b133-4471-ad79-2f31ec74952c",
   "metadata": {
    "deletable": false,
    "editable": false
   },
   "source": [
    "<!-- BEGIN QUESTION -->\n",
    "\n",
    "### Part 4\n",
    "Improve the visibility of the zooplankton migration on your pcolormesh plot from Part 6. You can copy and paste most of your answer from Part 3 here (don't forget the colorbar or other required plot elements!), but adjust the following: (5 points) \n",
    "\n",
    ">a) Choose a good colormap from [matplotlib](https://matplotlib.org/stable/tutorials/colors/colormaps.html). Jet is a good example you can try, but try the other color gradients under the \"Miscellaneous\" section.\n",
    "\n",
    ">b) Experiment with changing the limits of your colormap. Do this by using `pcolormesh()` named arguments `vmin` and `vmax`, which represent the data range of the colormap. Try to get your plot visibility to look as similar to the example plot in the instructions.\n",
    "\n",
    "_HINT:_ Try adding/subtracting the standard deviation of the color data from the minimum and maximum of `MVBS_flipT`. How does this change your color scale, and what can you do to improve it? "
   ]
  },
  {
   "cell_type": "code",
   "execution_count": null,
   "id": "1d14ee68-f952-4842-820f-bb0d9f68ded3",
   "metadata": {
    "tags": []
   },
   "outputs": [],
   "source": [
    "print(\"Part 4)\")\n",
    "# your code for plotting\n",
    "\n"
   ]
  },
  {
   "cell_type": "markdown",
   "id": "340b9e53",
   "metadata": {
    "deletable": false,
    "editable": false
   },
   "source": [
    "<!-- END QUESTION -->\n",
    "\n"
   ]
  },
  {
   "cell_type": "markdown",
   "id": "2d83cbbe",
   "metadata": {
    "deletable": false,
    "editable": false
   },
   "source": [
    "---\n",
    "\n",
    "To double-check your work, the cell below will rerun all of the autograder tests."
   ]
  },
  {
   "cell_type": "code",
   "execution_count": null,
   "id": "6808098d",
   "metadata": {
    "deletable": false,
    "editable": false
   },
   "outputs": [],
   "source": [
    "grader.check_all()"
   ]
  }
 ],
 "metadata": {
  "kernelspec": {
   "display_name": "Python 3 (ipykernel)",
   "language": "python",
   "name": "python3"
  },
  "language_info": {
   "codemirror_mode": {
    "name": "ipython",
    "version": 3
   },
   "file_extension": ".py",
   "mimetype": "text/x-python",
   "name": "python",
   "nbconvert_exporter": "python",
   "pygments_lexer": "ipython3",
   "version": "3.10.10"
  },
  "otter": {
   "OK_FORMAT": true,
   "tests": {
    "Question 1 Part 1": {
     "name": "Question 1 Part 1",
     "points": null,
     "suites": [
      {
       "cases": [
        {
         "code": ">>> # Part 1: check if columns are correct\n>>> (pro_df.columns.values == ['time', 'Pressure Bin (dbar)', 'Seawater Temperature (deg_C)',\n...        'Practical Salinity', 'Dissolved Oxygen (umol kg-1)', 'CDOM (ppb)',\n...        'Nitrate (µmol L-1)']).all()\nTrue",
         "failure_message": "Are you reading in your dataframe correctly?",
         "hidden": false,
         "locked": false,
         "points": 2
        },
        {
         "code": ">>> # Part 1: check if number of rows are correct\n>>> df_rows == 305459\nTrue",
         "failure_message": "Check your df_rows variable!",
         "hidden": false,
         "locked": false,
         "points": 1
        }
       ],
       "scored": true,
       "setup": "",
       "teardown": "",
       "type": "doctest"
      }
     ]
    },
    "Question 1 Part 2": {
     "name": "Question 1 Part 2",
     "points": null,
     "suites": [
      {
       "cases": [
        {
         "code": ">>> # Part 2: check if mean seawater temperature is correctly calculated\n>>> np.round(mean_temp,1) == 9.4\nTrue",
         "failure_message": "Check your mean_temp variable!",
         "hidden": false,
         "locked": false,
         "points": 2
        }
       ],
       "scored": true,
       "setup": "",
       "teardown": "",
       "type": "doctest"
      }
     ]
    },
    "Question 1 Part 3": {
     "name": "Question 1 Part 3",
     "points": null,
     "suites": [
      {
       "cases": [
        {
         "code": ">>> # Part 3: check if august dataframe is correctly subsetted\n>>> ((len(aug_df) == 176) & (pd.unique(aug_df['time']=='2017-08-08 17:00:00'))).all()\nTrue",
         "failure_message": "Check your aug_df variable!",
         "hidden": false,
         "locked": false,
         "points": 2
        },
        {
         "code": ">>> # Part 3: check if august dataframe is correctly subsetted\n>>> ((len(dec_df) == 176) & (pd.unique(dec_df['time']=='2017-12-04 17:00:00'))).all()\nTrue",
         "failure_message": "Check your dec_df variable!",
         "hidden": false,
         "locked": false,
         "points": 2
        }
       ],
       "scored": true,
       "setup": "",
       "teardown": "",
       "type": "doctest"
      }
     ]
    },
    "Question 2 Part 1": {
     "name": "Question 2 Part 1",
     "points": null,
     "suites": [
      {
       "cases": [
        {
         "code": ">>> # Part 1, check if cruise_filepath variable is correct\n>>> cruise_filepath == \"data/35MJ20150607_CO2_underway_SOCATv4.tab\"\nTrue",
         "failure_message": "Check your cruise_filepath variable!",
         "hidden": false,
         "locked": false,
         "points": 1
        },
        {
         "code": ">>> # Part 1: check if they calculated correct number of header lines\n>>> header_lines==35\nTrue",
         "failure_message": "Check your header_lines variable!",
         "hidden": false,
         "locked": false,
         "points": 1
        },
        {
         "code": ">>> # part 1: check it data_cols variable is correct\n>>> import numpy as np\n>>> (np.sort(data_cols)==(1,2,4,5)).all()\nTrue",
         "failure_message": "Check your aug_df variable!",
         "hidden": false,
         "locked": false,
         "points": 1
        }
       ],
       "scored": true,
       "setup": "",
       "teardown": "",
       "type": "doctest"
      }
     ]
    },
    "Question 2 Part 2": {
     "name": "Question 2 Part 2",
     "points": null,
     "suites": [
      {
       "cases": [
        {
         "code": ">>> # Part 2: checks shape of lat_lon_sal_temp variable\n>>> lat_lon_sal_temp.shape == (5613, 4)\nTrue",
         "failure_message": "Check your lat_lon_sal_temp variable!",
         "hidden": false,
         "locked": false,
         "points": 1
        },
        {
         "code": ">>> # Part 2: checks first row of lat_lon_sal_temp variable\n>>> import numpy as np\n>>> (np.sort(lat_lon_sal_temp[0]) == [-52.371,   5.537,  27.628,  29.723]).all()\nTrue",
         "failure_message": "Check your lat_lon_sal_temp variable!",
         "hidden": false,
         "locked": false,
         "points": 1
        }
       ],
       "scored": true,
       "setup": "",
       "teardown": "",
       "type": "doctest"
      }
     ]
    },
    "Question 3": {
     "name": "Question 3",
     "points": null,
     "suites": [
      {
       "cases": [
        {
         "code": ">>> # Part 2: check dimensions variable\n>>> set(['frequency', 'ping_time', 'range_bin'])==set(list(echo_coords))\nTrue",
         "failure_message": "Check your echo_coords variable!",
         "hidden": false,
         "locked": false,
         "points": 1
        },
        {
         "code": ">>> # Part 2: check dimensions variable\n>>> set(['MVBS', 'MVBS_range_bin_size'])==set(list(echo_vars))\nTrue",
         "failure_message": "Check your echo_vars variable!",
         "hidden": false,
         "locked": false,
         "points": 1
        },
        {
         "code": ">>> # Part 2: check dimensions variable\n>>> set([3, 215,593])==set(list(dict(echo_dims).values()))\nTrue",
         "failure_message": "Check your echo_dims variable!",
         "hidden": false,
         "locked": false,
         "points": 1
        }
       ],
       "scored": true,
       "setup": "",
       "teardown": "",
       "type": "doctest"
      }
     ]
    },
    "Question 3 Part 2": {
     "name": "Question 3 Part 2",
     "points": null,
     "suites": [
      {
       "cases": [
        {
         "code": ">>> # Part 3: check dimensions echodata_200\n>>> list(dict(echodata_200.dims).values())==[593, 215]\nTrue",
         "failure_message": "Check your echodata_200 variable!",
         "hidden": false,
         "locked": false,
         "points": 1
        },
        {
         "code": ">>> # Part 4: check times variable\n>>> (times.dtype == '<M8[ns]') and (times_shape == (593,))\nTrue",
         "failure_message": "Check your times variable!",
         "hidden": false,
         "locked": false,
         "points": 1
        },
        {
         "code": ">>> # Part 4: check depths variable\n>>> (depths.dtype == 'int64') and (depths_shape == (215,))\nTrue",
         "failure_message": "Check your depths variable!",
         "hidden": false,
         "locked": false,
         "points": 1
        },
        {
         "code": ">>> # Part 4: check MVBS variable\n>>> (MVBS.dtype == 'float64') and (MVBS_shape == (593, 215))\nTrue",
         "failure_message": "Check your MVBS variable!",
         "hidden": false,
         "locked": false,
         "points": 1
        }
       ],
       "scored": true,
       "setup": "",
       "teardown": "",
       "type": "doctest"
      }
     ]
    },
    "Question 3 Part 3": {
     "name": "Question 3 Part 3",
     "points": null,
     "suites": [
      {
       "cases": [
        {
         "code": ">>> # Part 6: check MVBS_flipT variable by checking a few data points\n>>> (np.round(MVBS_flipT[0][0], 3) == -57.198) and (np.round(MVBS_flipT[-1][0], 3)==-43.323)\nTrue",
         "failure_message": "Check your MVBS_flipT_shape variable!",
         "hidden": false,
         "locked": false,
         "points": 2
        },
        {
         "code": ">>> # Part 6: check MVBS_flipT_shape variable\n>>> MVBS_flipT_shape == (215, 593)\nTrue",
         "failure_message": "Check your MVBS_flipT_shape variable!",
         "hidden": false,
         "locked": false,
         "points": 2
        }
       ],
       "scored": true,
       "setup": "",
       "teardown": "",
       "type": "doctest"
      }
     ]
    }
   }
  }
 },
 "nbformat": 4,
 "nbformat_minor": 5
}
